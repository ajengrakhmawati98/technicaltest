{
  "metadata": {
    "language_info": {
      "codemirror_mode": {
        "name": "python",
        "version": 3
      },
      "file_extension": ".py",
      "mimetype": "text/x-python",
      "name": "python",
      "nbconvert_exporter": "python",
      "pygments_lexer": "ipython3",
      "version": "3.8"
    },
    "kernelspec": {
      "name": "python",
      "display_name": "Python (Pyodide)",
      "language": "python"
    }
  },
  "nbformat_minor": 4,
  "nbformat": 4,
  "cells": [
    {
      "cell_type": "code",
      "source": "import csv",
      "metadata": {
        "trusted": true
      },
      "execution_count": 47,
      "outputs": []
    },
    {
      "cell_type": "code",
      "source": "with open(\"owid-covid-data.csv\") as file:\n    csvreader = csv.reader(file)",
      "metadata": {
        "trusted": true
      },
      "execution_count": 50,
      "outputs": []
    },
    {
      "cell_type": "code",
      "source": "df.info()",
      "metadata": {
        "trusted": true
      },
      "execution_count": 40,
      "outputs": [
        {
          "name": "stdout",
          "text": "<class 'pandas.core.frame.DataFrame'>\nMultiIndex: 1723 entries, ('ZMB', 'Africa', 'Zambia', '2021-02-20', 73894.0, 691.0, 777.143, 1016.0, 14.0, 10.857, 3691.439, 34.52, 38.823, 50.755, 0.699, 0.542, 0.83, nan, nan, nan, nan, nan, nan, nan, nan, 1047418.0, 4412.0, 53.788, 0.227, 6076.0, 0.312, 0.1279, 7.8, 'tests performed', nan, nan, nan, nan, nan, nan, nan, nan, nan, nan, nan, nan, nan, 36.11, 22.995, 17.7, 2.48, 1.542, 3689.251, 57.5, 234.499) to ('ZWE', 'Africa', 'Zimbabwe', '2023-01-13', 259981.0, 0.0, 0.0, 5637.0, 0.0, 0.0, 15929.682, 0.0, 0.0, 345.393, 0.0, 0.0, nan, nan, nan, nan, nan, nan, nan, nan, nan, nan, nan, nan, nan, nan, nan, nan, nan, nan, nan, nan, nan, nan, nan, nan, nan, nan, nan, nan, nan, nan, nan, nan, 42.729, 19.6, 2.822, 1.882, 1899.775, 21.4, 307.846)\nData columns (total 12 columns):\n #   Column       Non-Null Count  Dtype  \n---  ------       --------------  -----  \n 0   .94          1723 non-null   float64\n 1   3.1          1723 non-null   float64\n 2   24.7         1723 non-null   float64\n 3   13.938       1723 non-null   float64\n 4   2.0          1723 non-null   float64\n 5   63.89        1723 non-null   float64\n 6   0.584        1723 non-null   float64\n 7   20017670.0   1723 non-null   float64\n 8   Unnamed: 8   0 non-null      float64\n 9   Unnamed: 9   0 non-null      float64\n 10  Unnamed: 10  0 non-null      float64\n 11  Unnamed: 11  0 non-null      float64\ndtypes: float64(12)\nmemory usage: 1.0+ MB\n",
          "output_type": "stream"
        }
      ]
    },
    {
      "cell_type": "code",
      "source": "location = float(input(\"Input country name : \"))\ndate = float(input(\"Input date in March 2023 : \"))\nmedian_age = float(input(\"Input age : \"))\ntotal_cases = float(input(\"Input total case : \"))\nnew_cases = float(input(\"Input new case : \"))\nnew_cases_smoothed = float(input(\"Input new case smoothed : \"))\ntotal_deaths = float(input(\"Input total death : \"))\nnew_deaths = float(input(\"Input new death : \"))\nnew_deaths_smoothed = float(input(\"Input new death smoothed  : \"))\ntotal_cases_per_million = float(input(\"Input total case per million : \"))\nnew_cases_per_million = float(input(\"Input new case per million : \"))\nnew_cases_smoothed_per_million = float(input(\"Input new case smoothed per million : \"))\ntotal_deaths_per_million = float(input(\"Input total death per million : \"))\nnew_deaths_per_million = float(input(\"Input new death per million : \"))\nnew_deaths_smoothed_per_million = float(input(\"Input new death smoothed per million : \"))\n\ninput_column = [[location,date,total_cases,new_cases,new_cases_smoothed,total_deaths,new_deaths,new_deaths_smoothed,total_cases_per_million,new_cases_per_million,new_cases_smoothed_per_million,total_deaths_per_million,new_deaths_per_million,new_deaths_smoothed_per_million]]\ndeath_prob = csvreader.predict_proba(input_column)[0][1]\nprint(\"probability of dying from COVID infection in France in March 2023 for a 25 year old :\")\nprint(str(death_prob*100000)+\"%\")",
      "metadata": {
        "trusted": true
      },
      "execution_count": 41,
      "outputs": [
        {
          "ename": "<class 'TypeError'>",
          "evalue": "float() argument must be a string or a real number, not 'PyodideFuture'",
          "traceback": [
            "\u001b[0;31m---------------------------------------------------------------------------\u001b[0m",
            "\u001b[0;31mTypeError\u001b[0m                                 Traceback (most recent call last)",
            "Cell \u001b[0;32mIn[41], line 1\u001b[0m\n\u001b[0;32m----> 1\u001b[0m age \u001b[38;5;241m=\u001b[39m \u001b[38;5;28;43mfloat\u001b[39;49m\u001b[43m(\u001b[49m\u001b[38;5;28;43minput\u001b[39;49m\u001b[43m(\u001b[49m\u001b[38;5;124;43m\"\u001b[39;49m\u001b[38;5;124;43mInput age number : \u001b[39;49m\u001b[38;5;124;43m\"\u001b[39;49m\u001b[43m)\u001b[49m\u001b[43m)\u001b[49m\n\u001b[1;32m      2\u001b[0m month \u001b[38;5;241m=\u001b[39m \u001b[38;5;28mfloat\u001b[39m(\u001b[38;5;28minput\u001b[39m(\u001b[38;5;124m\"\u001b[39m\u001b[38;5;124mInput month : \u001b[39m\u001b[38;5;124m\"\u001b[39m))\n\u001b[1;32m      3\u001b[0m year \u001b[38;5;241m=\u001b[39m \u001b[38;5;28mfloat\u001b[39m(\u001b[38;5;28minput\u001b[39m(\u001b[38;5;124m\"\u001b[39m\u001b[38;5;124mInput year : \u001b[39m\u001b[38;5;124m\"\u001b[39m))\n",
            "\u001b[0;31mTypeError\u001b[0m: float() argument must be a string or a real number, not 'PyodideFuture'"
          ],
          "output_type": "error"
        },
        {
          "output_type": "stream",
          "name": "stdin",
          "text": "Input age number :  we\n"
        }
      ]
    },
    {
      "cell_type": "code",
      "source": "",
      "metadata": {},
      "execution_count": null,
      "outputs": []
    }
  ]
}