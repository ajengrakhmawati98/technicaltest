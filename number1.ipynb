{
  "metadata": {
    "language_info": {
      "codemirror_mode": {
        "name": "python",
        "version": 3
      },
      "file_extension": ".py",
      "mimetype": "text/x-python",
      "name": "python",
      "nbconvert_exporter": "python",
      "pygments_lexer": "ipython3",
      "version": "3.8"
    },
    "kernelspec": {
      "name": "python",
      "display_name": "Python (Pyodide)",
      "language": "python"
    }
  },
  "nbformat_minor": 4,
  "nbformat": 4,
  "cells": [
    {
      "cell_type": "code",
      "source": "import csv",
      "metadata": {
        "trusted": true
      },
      "execution_count": 47,
      "outputs": []
    },
    {
      "cell_type": "code",
      "source": "with open(\"owid-covid-data.csv\") as file:\n    csvreader = csv.reader(file)",
      "metadata": {
        "trusted": true
      },
      "execution_count": 50,
      "outputs": []
    },
    {
      "cell_type": "code",
      "source": "location = float(input(\"Input country name : \"))\ndate = float(input(\"Input date in March 2023 : \"))\nmedian_age = float(input(\"Input age : \"))\ntotal_cases = float(input(\"Input total case : \"))\nnew_cases = float(input(\"Input new case : \"))\nnew_cases_smoothed = float(input(\"Input new case smoothed : \"))\ntotal_deaths = float(input(\"Input total death : \"))\nnew_deaths = float(input(\"Input new death : \"))\nnew_deaths_smoothed = float(input(\"Input new death smoothed  : \"))\ntotal_cases_per_million = float(input(\"Input total case per million : \"))\nnew_cases_per_million = float(input(\"Input new case per million : \"))\nnew_cases_smoothed_per_million = float(input(\"Input new case smoothed per million : \"))\ntotal_deaths_per_million = float(input(\"Input total death per million : \"))\nnew_deaths_per_million = float(input(\"Input new death per million : \"))\nnew_deaths_smoothed_per_million = float(input(\"Input new death smoothed per million : \"))\n\ninput_column = [[location,date,total_cases,new_cases,new_cases_smoothed,total_deaths,new_deaths,new_deaths_smoothed,total_cases_per_million,new_cases_per_million,new_cases_smoothed_per_million,total_deaths_per_million,new_deaths_per_million,new_deaths_smoothed_per_million]]\ndeath_prob = csvreader.predict_proba(input_column)[0][1]\nprint(\"probability of dying from COVID infection in France in March 2023 for a 25 year old :\")\nprint(str(death_prob*100000)+\"%\")",
      "metadata": {},
      "execution_count": null,
      "outputs": []
    }
  ]
}